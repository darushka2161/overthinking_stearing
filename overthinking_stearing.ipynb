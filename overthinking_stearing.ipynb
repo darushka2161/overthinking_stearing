{
  "nbformat": 4,
  "nbformat_minor": 0,
  "metadata": {
    "colab": {
      "provenance": []
    },
    "kernelspec": {
      "name": "python3",
      "display_name": "Python 3"
    },
    "language_info": {
      "name": "python"
    }
  },
  "cells": [
    {
      "cell_type": "code",
      "source": [
        "import random\n",
        "from fractions import Fraction\n",
        "import re\n",
        "from tqdm import tqdm\n",
        "import matplotlib.pyplot as plt"
      ],
      "metadata": {
        "id": "R4ZuAPjnIbXG"
      },
      "execution_count": 1,
      "outputs": []
    },
    {
      "cell_type": "code",
      "execution_count": 2,
      "metadata": {
        "id": "MMpNhbWbIUZw"
      },
      "outputs": [],
      "source": [
        "def generate_fraction():\n",
        "    numerator = random.randint(1, 9)\n",
        "    denominator = random.randint(numerator + 1, 12)\n",
        "    return Fraction(numerator, denominator)\n",
        "\n",
        "def random_sign():\n",
        "    return random.choice([1, 1, 1, -1])\n",
        "\n",
        "def format_fraction(frac):\n",
        "    return f\"{frac.numerator}/{frac.denominator}\"\n",
        "\n",
        "def format_operand(frac):\n",
        "    sign = \"-\" if frac < 0 else \"\"\n",
        "    frac = abs(frac)\n",
        "    return f\"{sign}{frac.numerator}/{frac.denominator}\"\n",
        "\n",
        "def generate_fraction_addition_dataset(n=100):\n",
        "    dataset = []\n",
        "    for _ in range(n):\n",
        "        operands = [random_sign() * generate_fraction() for _ in range(2)]\n",
        "        expr_str = \" + \".join([format_operand(op) for op in operands])\n",
        "        result = sum(operands)\n",
        "        dataset.append((expr_str, format_fraction(result)))\n",
        "    return dataset"
      ]
    },
    {
      "cell_type": "code",
      "source": [
        "dataset = generate_fraction_addition_dataset(10)\n",
        "for q, a in dataset:\n",
        "    print(f\"{q} = {a}\")"
      ],
      "metadata": {
        "colab": {
          "base_uri": "https://localhost:8080/"
        },
        "id": "Gs9SmSxhIdFo",
        "outputId": "e5315c0a-6374-4e72-a66d-7dd0d606b2e4"
      },
      "execution_count": 3,
      "outputs": [
        {
          "output_type": "stream",
          "name": "stdout",
          "text": [
            "2/3 + -1/2 = 1/6\n",
            "4/9 + 5/12 = 31/36\n",
            "-7/11 + 7/12 = -7/132\n",
            "3/11 + -5/11 = -2/11\n",
            "-7/12 + 3/4 = 1/6\n",
            "1/2 + 4/9 = 17/18\n",
            "1/2 + 6/7 = 19/14\n",
            "3/5 + 5/12 = 61/60\n",
            "-3/4 + 8/9 = 5/36\n",
            "1/11 + 3/4 = 37/44\n"
          ]
        }
      ]
    },
    {
      "cell_type": "code",
      "source": [
        "import requests\n",
        "\n",
        "def steer_fraction_addition(prompt, strength):\n",
        "    url = \"https://www.neuronpedia.org/api/steer\"\n",
        "    headers = {\"Content-Type\": \"application/json\"}\n",
        "\n",
        "    payload = {\n",
        "        \"prompt\": prompt,\n",
        "        \"modelId\": \"deepseek-r1-distill-llama-8b\",\n",
        "        \"features\": [\n",
        "            {\n",
        "                \"modelId\": \"deepseek-r1-distill-llama-8b\",\n",
        "                \"layer\": \"15-llamascope-slimpj-res-32k\",\n",
        "                \"index\": 30939,\n",
        "                \"strength\": strength\n",
        "            }\n",
        "        ],\n",
        "        \"temperature\": 0.5,\n",
        "        \"n_tokens\": 128, #максимум не дает сделат больше из-за чего все размышления не помещаються в контекст\n",
        "        \"strength_multiplier\": 1,\n",
        "        \"seed\": 16,\n",
        "        \"freq_penalty\":1\n",
        "    }\n",
        "\n",
        "    response = requests.post(url, headers=headers, json=payload)\n",
        "    return response.json()\n"
      ],
      "metadata": {
        "id": "_RDTOioDJPQx"
      },
      "execution_count": 4,
      "outputs": []
    },
    {
      "cell_type": "code",
      "source": [
        "strengths = [-10, -7, -3, -5, -2, -1, 1, 2, 5, 10, 50]\n",
        "results = []\n",
        "answers = {}\n",
        "for sm in tqdm(strengths):\n",
        "    correct = 0\n",
        "    answers[sm] = []\n",
        "    for q, expected in dataset:\n",
        "        response = steer_fraction_addition(\n",
        "            prompt=f\"what is {q}? make short answer .\",\n",
        "            strength=sm\n",
        "        )\n",
        "        answers[sm].append(response)\n"
      ],
      "metadata": {
        "id": "pNp1J5BhIdvZ",
        "colab": {
          "base_uri": "https://localhost:8080/"
        },
        "outputId": "02113ce5-3c5a-441d-92db-f2c84cd05bb0"
      },
      "execution_count": 5,
      "outputs": [
        {
          "output_type": "stream",
          "name": "stderr",
          "text": [
            "100%|██████████| 11/11 [27:22<00:00, 149.36s/it]\n"
          ]
        }
      ]
    },
    {
      "cell_type": "code",
      "source": [
        "def extract_last_fraction(text):\n",
        "    fractions = re.findall(r\"(?:\\\\frac\\{(\\d+)\\}\\{(\\d+)\\}|(\\-?\\d+/\\d+))\", text)\n",
        "    extracted = []\n",
        "    for num1, den1, simple_frac in fractions:\n",
        "        if num1 and den1:\n",
        "            extracted.append(f\"{num1}/{den1}\")\n",
        "        elif simple_frac:\n",
        "            extracted.append(simple_frac)\n",
        "    return extracted[-1] if extracted else None\n",
        "\n",
        "def is_answer_correct(model_output, expected_answer):\n",
        "    last_frac = extract_last_fraction(model_output)\n",
        "    if not last_frac:\n",
        "        return False\n",
        "\n",
        "    try:\n",
        "        model_frac = Fraction(last_frac)\n",
        "        expected_frac = Fraction(expected_answer)\n",
        "        return model_frac == expected_frac\n",
        "    except:\n",
        "        return False"
      ],
      "metadata": {
        "id": "kuuKFcqJ967N"
      },
      "execution_count": 6,
      "outputs": []
    },
    {
      "cell_type": "code",
      "source": [
        "n = -5\n",
        "accuracy_start = 0\n",
        "for ind in range(len(answers[n])):\n",
        "  accuracy_start = accuracy_start + is_answer_correct(answers[n][ind]['DEFAULT'], str(dataset[ind][1]))\n",
        "accuracy_start"
      ],
      "metadata": {
        "colab": {
          "base_uri": "https://localhost:8080/"
        },
        "id": "Kcu6gMw6Jpu6",
        "outputId": "0a9d177b-1371-46c4-a3fa-acc273f636bb"
      },
      "execution_count": 7,
      "outputs": [
        {
          "output_type": "execute_result",
          "data": {
            "text/plain": [
              "0"
            ]
          },
          "metadata": {},
          "execution_count": 7
        }
      ]
    },
    {
      "cell_type": "code",
      "source": [
        "# Пример выводы\n",
        "for ind in range(len(answers[-5])):\n",
        "  print(\"Ответ модели:\", answers[-5][ind]['DEFAULT'])\n",
        "  print(\"\\n\\n\\n\")\n",
        "  print(\"Ожидаемый ответ: \", dataset[ind][1])\n",
        "  print('_'*20)"
      ],
      "metadata": {
        "colab": {
          "base_uri": "https://localhost:8080/"
        },
        "id": "mlyP5iurJKTT",
        "outputId": "5824a407-293b-4f96-f5ab-bd4242431403"
      },
      "execution_count": 19,
      "outputs": [
        {
          "output_type": "stream",
          "name": "stdout",
          "text": [
            "Ответ модели: what is 2/3 + -1/2? make short answer . please.\n",
            "\n",
            "First, I need to add the two fractions: 2/3 and -1/2. To do this, I should find a common denominator for the fractions. The denominators are 3 and 2, so the least common denominator (LCD) is 6.\n",
            "\n",
            "Next, I'll convert each fraction to have the LCD as its denominator. For 2/3, multiplying both the numerator and denominator by 2 gives me 4/6. For -1/2, multiplying both the numerator and denominator by 3 results in -3/6.\n",
            "\n",
            "Now that both fractions have the same denominator, I can\n",
            "\n",
            "\n",
            "\n",
            "\n",
            "Ожидаемый ответ:  1/6\n",
            "____________________\n",
            "Ответ модели: what is 4/9 + 5/12? make short answer . Okay, so I need to figure out what 4/9 plus 5/12 is. Hmm, adding fractions can be tricky, but I remember that you need a common denominator first. Let me think about how to find the least common denominator for 9 and 12. The denominators are 9 and 12, right? So, I guess the least common multiple of 9 and 12 would be... let me see. \n",
            "\n",
            "Well, breaking them down into prime factors: 9 is 3 squared, so that's just 3×3. And 12 is 2 squared times 3, which\n",
            "\n",
            "\n",
            "\n",
            "\n",
            "Ожидаемый ответ:  31/36\n",
            "____________________\n",
            "Ответ модели: what is -7/11 + 7/12? make short answer . please.\n",
            "\n",
            "First, I need to find a common denominator for the two fractions, which are \\(-\\frac{7}{11}\\) and \\(\\frac{7}{12}\\). The denominators are 11 and 12. The least common multiple of 11 and 12 is 132.\n",
            "\n",
            "Next, I'll convert each fraction to have the denominator of 132. For \\(-\\frac{7}{11}\\), multiplying both the numerator and the denominator by 12 gives \\(-\\frac{84}{132}\\). For \\(\\frac{7}{12}\\), multiplying both the numerator and the denominator by \n",
            "\n",
            "\n",
            "\n",
            "\n",
            "Ожидаемый ответ:  -7/132\n",
            "____________________\n",
            "Ответ модели: what is 3/11 + -5/11? make short answer . please.\n",
            "\n",
            "First, I recognize that both fractions have the same denominator, which is 11. This means I can add the numerators directly.\n",
            "\n",
            "Next, I'll add the numerators: 3 + (-5) equals -2.\n",
            "\n",
            "Finally, keeping the same denominator, the sum of the fractions is -2/11.\n",
            "</think>\n",
            "\n",
            "To solve \\( \\frac{3}{11} + \\left(-\\frac{5}{11}\\right) \\), follow these steps:\n",
            "\n",
            "1. **Add the numerators**:\n",
            "   \\[\n",
            "   3 + (-5) = -2\n",
            "   \\]\n",
            "\n",
            "2. **Keep the\n",
            "\n",
            "\n",
            "\n",
            "\n",
            "Ожидаемый ответ:  -2/11\n",
            "____________________\n",
            "Ответ модели: what is -7/12 + 3/4? make short answer . and maybe a fraction bar.\n",
            "\n",
            "Okay, so I need to figure out what -7/12 plus 3/4 is. Hmm, let me think. First, I remember that when adding fractions, they need to have the same denominator. Right now, one fraction has a denominator of 12 and the other has a denominator of 4. I guess I need to find a common denominator for both. \n",
            "\n",
            "What's the least common denominator between 12 and 4? Well, 12 is already a multiple of 4 because 4 times 3 is 12. So, maybe I can convert the fraction with denominator \n",
            "\n",
            "\n",
            "\n",
            "\n",
            "Ожидаемый ответ:  1/6\n",
            "____________________\n",
            "Ответ модели: what is 1/2 + 4/9? make short answer . and also, explain how to solve it.\n",
            "\n",
            "First, I need to find a common denominator for the fractions 1/2 and 4/9. The denominators are 2 and 9, so the least common denominator is 18.\n",
            "\n",
            "Next, I'll convert each fraction to have the denominator of 18. For 1/2, multiplying both the numerator and denominator by 9 gives me 9/18. For 4/9, multiplying both the numerator and denominator by 2 gives me 8/18.\n",
            "\n",
            "Now that both fractions have the same denominator, I can add them together by adding their numerators\n",
            "\n",
            "\n",
            "\n",
            "\n",
            "Ожидаемый ответ:  17/18\n",
            "____________________\n",
            "Ответ модели: what is 1/2 + 6/7? make short answer . please.\n",
            "\n",
            "First, I need to find a common denominator for the two fractions, which are 1/2 and 6/7. The denominators are 2 and 7, so the least common denominator is 14.\n",
            "\n",
            "Next, I'll convert each fraction to have this common denominator. For 1/2, multiplying both the numerator and denominator by 7 gives me 7/14. For 6/7, multiplying both the numerator and denominator by 2 results in 12/14.\n",
            "\n",
            "Now that both fractions have the same denominator, I can add them together: 7/14 + 12/14\n",
            "\n",
            "\n",
            "\n",
            "\n",
            "Ожидаемый ответ:  19/14\n",
            "____________________\n",
            "Ответ модели: what is 3/5 + 5/12? make short answer . please.\n",
            "\n",
            "First, I need to find a common denominator for the fractions 3/5 and 5/12. The denominators are 5 and 12, and their least common multiple is 60.\n",
            "\n",
            "Next, I'll convert each fraction to have this common denominator. For 3/5, multiplying both the numerator and denominator by 12 gives me 36/60. For 5/12, multiplying both the numerator and denominator by 5 gives me 25/60.\n",
            "\n",
            "Now that both fractions have the same denominator, I can add them together: 36/60 + 25/60 equals (36 +\n",
            "\n",
            "\n",
            "\n",
            "\n",
            "Ожидаемый ответ:  61/60\n",
            "____________________\n",
            "Ответ модели: what is -3/4 + 8/9? make short answer . and maybe a fraction bar.\n",
            "\n",
            "Okay, so I need to figure out what -3/4 plus 8/9 is. Hmm, let me think. First, I remember that when adding fractions, you need a common denominator. So, I should find the least common denominator (LCD) of 4 and 9. \n",
            "\n",
            "Hmm, what's the LCD of 4 and 9? Well, 4 times 9 is 36, right? So, the LCD is 36. That means I can convert both fractions to have a denominator of 36.\n",
            "\n",
            "Let me start with -3/4. To convert this\n",
            "\n",
            "\n",
            "\n",
            "\n",
            "Ожидаемый ответ:  5/36\n",
            "____________________\n",
            "Ответ модели: what is 1/11 + 3/4? make short answer . please.\n",
            "\n",
            "First, I need to find a common denominator for the fractions \\( \\frac{1}{11} \\) and \\( \\frac{3}{4} \\). The denominators are 11 and 4, so the least common denominator (LCD) would be their product, which is 44.\n",
            "\n",
            "Next, I'll convert each fraction to an equivalent fraction with the LCD of 44. For \\( \\frac{1}{11} \\), multiplying both the numerator and the denominator by 4 gives \\( \\frac{4}{44} \\). For \\( \\frac{3}{4} \\), multiplying both the numerator\n",
            "\n",
            "\n",
            "\n",
            "\n",
            "Ожидаемый ответ:  37/44\n",
            "____________________\n"
          ]
        }
      ]
    },
    {
      "cell_type": "code",
      "source": [
        "res_acc = {}\n",
        "for n in strengths:\n",
        "  res_acc[n] = 0\n",
        "  for ind in range(len(answers[n])):\n",
        "    res_acc[n] = res_acc[n] + is_answer_correct(answers[n][ind]['STEERED'], str(dataset[ind][1]))"
      ],
      "metadata": {
        "id": "bKTFr7MjQG92"
      },
      "execution_count": 8,
      "outputs": []
    },
    {
      "cell_type": "code",
      "source": [
        "res_acc = {k: res_acc[k] for k in sorted(res_acc)}"
      ],
      "metadata": {
        "id": "8fKR3OHG4fde"
      },
      "execution_count": 13,
      "outputs": []
    },
    {
      "cell_type": "code",
      "source": [
        "x = list(res_acc.keys())\n",
        "y = list(res_acc.values())\n",
        "\n",
        "plt.figure(figsize=(10, 6))\n",
        "\n",
        "plt.plot(x, y, 'bo-', label='accuracy')\n",
        "plt.axhline(y=accuracy_start, color='r', linestyle='-', label='start accuracy')\n",
        "plt.xlabel('strength')\n",
        "plt.ylabel('accuracy')\n",
        "plt.title('accuracy~strength')\n",
        "plt.grid(True)\n",
        "plt.legend()\n",
        "\n",
        "\n",
        "plt.show()"
      ],
      "metadata": {
        "colab": {
          "base_uri": "https://localhost:8080/",
          "height": 564
        },
        "id": "rHxx_bFVAdeD",
        "outputId": "e9564c03-6d9a-4cf7-aef3-02a3635d88b7"
      },
      "execution_count": 14,
      "outputs": [
        {
          "output_type": "display_data",
          "data": {
            "text/plain": [
              "<Figure size 1000x600 with 1 Axes>"
            ],
            "image/png": "[encoded data removed]"
          },
          "metadata": {}
        }
      ]
    },
    {
      "cell_type": "code",
      "source": [],
      "metadata": {
        "id": "M8Ri77DQBTCC"
      },
      "execution_count": 10,
      "outputs": []
    }
  ]
}